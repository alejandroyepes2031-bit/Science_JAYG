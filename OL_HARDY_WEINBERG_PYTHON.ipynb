{
 "cells": [
  {
   "cell_type": "markdown",
   "id": "05b32a82-6fa9-4ca6-b532-84ce75b1ea88",
   "metadata": {},
   "source": [
    "**Ejemplo:** Equilibrio de Hardy-Weinberg en un locus con dos alelos"
   ]
  },
  {
   "cell_type": "markdown",
   "id": "e13422f5-26e5-483d-b9a8-e7f9b78fc6d5",
   "metadata": {},
   "source": [
    "Imagina que tomas una muestra de 100 individuos de una población de una especie $X_1$, para analizar un locus con dos alelos A y a."
   ]
  },
  {
   "cell_type": "markdown",
   "id": "5ffe8894-298c-403b-af00-a0d7f8a86968",
   "metadata": {},
   "source": [
    "Al realizar las pruebas para identificar los genotipos, obtienes el siguiente conteo:"
   ]
  },
  {
   "cell_type": "markdown",
   "id": "b24b4721-c3b3-4d90-8e50-2fc7fd67bacc",
   "metadata": {},
   "source": [
    "Genotipos observados:\n",
    "\n",
    "AA = 45\n",
    "\n",
    "Aa = 40\n",
    "\n",
    "aa = 15"
   ]
  },
  {
   "cell_type": "markdown",
   "id": "d919d1e2-69af-4f15-afc5-244cb2d72870",
   "metadata": {},
   "source": [
    "Para comprobar si esta población se encuentra en equilibrio de H-W decides analizar tus datos utilizando Python:"
   ]
  },
  {
   "cell_type": "code",
   "execution_count": 4,
   "id": "cc5d089d-f623-4da6-8aab-e1887670fef9",
   "metadata": {},
   "outputs": [],
   "source": [
    "# Paso 1: Librerías necesarias\n",
    "import pandas as pd\n",
    "from scipy.stats import chisquare"
   ]
  },
  {
   "cell_type": "code",
   "execution_count": 5,
   "id": "c544b9a4-569c-446c-8b53-1c80a08e1e5a",
   "metadata": {},
   "outputs": [],
   "source": [
    "# Paso 2: Datos observados de la población\n",
    "# Ejemplo:\n",
    "# Conteos de genotipos\n",
    "obs_counts = {\"AA\": 45, \"Aa\": 40, \"aa\": 15}"
   ]
  },
  {
   "cell_type": "code",
   "execution_count": 6,
   "id": "7c20b56a-2363-4e60-b1f8-c9d0480d7450",
   "metadata": {},
   "outputs": [
    {
     "name": "stdout",
     "output_type": "stream",
     "text": [
      "Genotipos observados:\n"
     ]
    },
    {
     "data": {
      "text/html": [
       "<div>\n",
       "<style scoped>\n",
       "    .dataframe tbody tr th:only-of-type {\n",
       "        vertical-align: middle;\n",
       "    }\n",
       "\n",
       "    .dataframe tbody tr th {\n",
       "        vertical-align: top;\n",
       "    }\n",
       "\n",
       "    .dataframe thead th {\n",
       "        text-align: right;\n",
       "    }\n",
       "</style>\n",
       "<table border=\"1\" class=\"dataframe\">\n",
       "  <thead>\n",
       "    <tr style=\"text-align: right;\">\n",
       "      <th></th>\n",
       "      <th>Observados</th>\n",
       "    </tr>\n",
       "  </thead>\n",
       "  <tbody>\n",
       "    <tr>\n",
       "      <th>AA</th>\n",
       "      <td>45</td>\n",
       "    </tr>\n",
       "    <tr>\n",
       "      <th>Aa</th>\n",
       "      <td>40</td>\n",
       "    </tr>\n",
       "    <tr>\n",
       "      <th>aa</th>\n",
       "      <td>15</td>\n",
       "    </tr>\n",
       "  </tbody>\n",
       "</table>\n",
       "</div>"
      ],
      "text/plain": [
       "    Observados\n",
       "AA          45\n",
       "Aa          40\n",
       "aa          15"
      ]
     },
     "metadata": {},
     "output_type": "display_data"
    }
   ],
   "source": [
    "# Convertir a DataFrame para verlo bonito\n",
    "df_obs = pd.DataFrame.from_dict(obs_counts, orient=\"index\", columns=[\"Observados\"])\n",
    "print(\"Genotipos observados:\")\n",
    "display(df_obs)"
   ]
  },
  {
   "cell_type": "code",
   "execution_count": 7,
   "id": "011ad5b2-b049-4c61-8327-9e695bfe050c",
   "metadata": {},
   "outputs": [
    {
     "name": "stdout",
     "output_type": "stream",
     "text": [
      "\n",
      "Frecuencia p (A): 0.650\n",
      "Frecuencia q (a): 0.350\n"
     ]
    }
   ],
   "source": [
    "# Paso 3: Calcular frecuencias alélicas\n",
    "n = sum(obs_counts.values())\n",
    "p = (2*obs_counts[\"AA\"] + obs_counts[\"Aa\"]) / (2*n)  # frecuencia del alelo A\n",
    "q = 1 - p                                           # frecuencia del alelo a\n",
    "\n",
    "print(f\"\\nFrecuencia p (A): {p:.3f}\")\n",
    "print(f\"Frecuencia q (a): {q:.3f}\")"
   ]
  },
  {
   "cell_type": "code",
   "execution_count": 8,
   "id": "387d179b-0e95-4458-8de2-a6b4fb34bfcf",
   "metadata": {},
   "outputs": [
    {
     "name": "stdout",
     "output_type": "stream",
     "text": [
      "\n",
      "Genotipos esperados (Hardy-Weinberg):\n"
     ]
    },
    {
     "data": {
      "text/html": [
       "<div>\n",
       "<style scoped>\n",
       "    .dataframe tbody tr th:only-of-type {\n",
       "        vertical-align: middle;\n",
       "    }\n",
       "\n",
       "    .dataframe tbody tr th {\n",
       "        vertical-align: top;\n",
       "    }\n",
       "\n",
       "    .dataframe thead th {\n",
       "        text-align: right;\n",
       "    }\n",
       "</style>\n",
       "<table border=\"1\" class=\"dataframe\">\n",
       "  <thead>\n",
       "    <tr style=\"text-align: right;\">\n",
       "      <th></th>\n",
       "      <th>Esperados</th>\n",
       "    </tr>\n",
       "  </thead>\n",
       "  <tbody>\n",
       "    <tr>\n",
       "      <th>AA</th>\n",
       "      <td>42.25</td>\n",
       "    </tr>\n",
       "    <tr>\n",
       "      <th>Aa</th>\n",
       "      <td>45.50</td>\n",
       "    </tr>\n",
       "    <tr>\n",
       "      <th>aa</th>\n",
       "      <td>12.25</td>\n",
       "    </tr>\n",
       "  </tbody>\n",
       "</table>\n",
       "</div>"
      ],
      "text/plain": [
       "    Esperados\n",
       "AA      42.25\n",
       "Aa      45.50\n",
       "aa      12.25"
      ]
     },
     "metadata": {},
     "output_type": "display_data"
    }
   ],
   "source": [
    "# Paso 4: Calcular frecuencias esperadas bajo H-W\n",
    "exp_freqs = {\"AA\": p**2, \"Aa\": 2*p*q, \"aa\": q**2}\n",
    "exp_counts = {g: f*n for g, f in exp_freqs.items()}\n",
    "\n",
    "df_exp = pd.DataFrame.from_dict(exp_counts, orient=\"index\", columns=[\"Esperados\"])\n",
    "print(\"\\nGenotipos esperados (Hardy-Weinberg):\")\n",
    "display(df_exp)"
   ]
  },
  {
   "cell_type": "code",
   "execution_count": 9,
   "id": "5418851f-91d9-40c3-9527-b2704c4a815a",
   "metadata": {},
   "outputs": [
    {
     "name": "stdout",
     "output_type": "stream",
     "text": [
      "\n",
      "📊 Test Chi-cuadrado:\n",
      "Chi² = 1.461, p-valor = 0.482\n",
      "✅ No hay evidencia significativa de desviación: la población está en equilibrio H-W.\n"
     ]
    }
   ],
   "source": [
    "# Paso 5: Comparación estadística con Chi-cuadrado\n",
    "observados = list(obs_counts.values())\n",
    "esperados = list(exp_counts.values())\n",
    "\n",
    "chi2, pval = chisquare(f_obs=observados, f_exp=esperados)\n",
    "\n",
    "print(\"\\n📊 Test Chi-cuadrado:\")\n",
    "print(f\"Chi² = {chi2:.3f}, p-valor = {pval:.3f}\")\n",
    "\n",
    "if pval > 0.05:\n",
    "    print(\"✅ No hay evidencia significativa de desviación: la población está en equilibrio H-W.\")\n",
    "else:\n",
    "    print(\"⚠️ La población se desvía del equilibrio H-W (posibles fuerzas evolutivas en acción).\")"
   ]
  }
 ],
 "metadata": {
  "kernelspec": {
   "display_name": "Python 3 (ipykernel)",
   "language": "python",
   "name": "python3"
  },
  "language_info": {
   "codemirror_mode": {
    "name": "ipython",
    "version": 3
   },
   "file_extension": ".py",
   "mimetype": "text/x-python",
   "name": "python",
   "nbconvert_exporter": "python",
   "pygments_lexer": "ipython3",
   "version": "3.12.3"
  }
 },
 "nbformat": 4,
 "nbformat_minor": 5
}

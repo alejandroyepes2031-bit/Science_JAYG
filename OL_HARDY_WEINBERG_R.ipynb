{
 "cells": [
  {
   "cell_type": "markdown",
   "id": "f45f8525-429d-46ae-894d-fa4b859c9549",
   "metadata": {},
   "source": [
    "**Ejemplo:** Equilibrio de Hardy-Weinberg en un locus con dos alelos"
   ]
  },
  {
   "cell_type": "markdown",
   "id": "9a0c584f-3c76-415a-a6a4-b35ceaaf2559",
   "metadata": {},
   "source": [
    "Imagina que tomas una muestra de 100 individuos de una población de una especie $X_1$, para analizar un locus con dos alelos A y a."
   ]
  },
  {
   "cell_type": "markdown",
   "id": "613902e2-ccff-4b74-b0ac-10e5e4c2db0d",
   "metadata": {},
   "source": [
    "Al realizar las pruebas para identificar los genotipos, obtienes el siguiente conteo:"
   ]
  },
  {
   "cell_type": "markdown",
   "id": "eb1b1aac-c7f4-45a7-bd0c-0d1cc74b302e",
   "metadata": {},
   "source": [
    "Genotipos observados:\n",
    "\n",
    "AA = 45\n",
    "\n",
    "Aa = 40\n",
    "\n",
    "aa = 15"
   ]
  },
  {
   "cell_type": "markdown",
   "id": "bef032ae-ac08-4c14-b2e1-6007dd6ac480",
   "metadata": {},
   "source": [
    "Para comprobar si esta población se encuentra en equilibrio de H-W decides analizar tus datos utilizando R:"
   ]
  },
  {
   "cell_type": "code",
   "execution_count": 2,
   "id": "59f58ace-72ba-4605-9840-2be2c39db295",
   "metadata": {},
   "outputs": [
    {
     "data": {
      "text/html": [
       "<style>\n",
       ".dl-inline {width: auto; margin:0; padding: 0}\n",
       ".dl-inline>dt, .dl-inline>dd {float: none; width: auto; display: inline-block}\n",
       ".dl-inline>dt::after {content: \":\\0020\"; padding-right: .5ex}\n",
       ".dl-inline>dt:not(:first-of-type) {padding-left: .5ex}\n",
       "</style><dl class=dl-inline><dt>AA</dt><dd>45</dd><dt>Aa</dt><dd>40</dd><dt>aa</dt><dd>15</dd></dl>\n"
      ],
      "text/latex": [
       "\\begin{description*}\n",
       "\\item[AA] 45\n",
       "\\item[Aa] 40\n",
       "\\item[aa] 15\n",
       "\\end{description*}\n"
      ],
      "text/markdown": [
       "AA\n",
       ":   45Aa\n",
       ":   40aa\n",
       ":   15\n",
       "\n"
      ],
      "text/plain": [
       "AA Aa aa \n",
       "45 40 15 "
      ]
     },
     "metadata": {},
     "output_type": "display_data"
    }
   ],
   "source": [
    "# Paso 1: Datos observados\n",
    "obs_counts <- c(AA = 45, Aa = 40, aa = 15)\n",
    "obs_counts\n",
    "\n",
    "n <- sum(obs_counts)"
   ]
  },
  {
   "cell_type": "code",
   "execution_count": 3,
   "id": "4c570004-07f0-495b-a8cb-c93b9f6b7d84",
   "metadata": {},
   "outputs": [
    {
     "name": "stdout",
     "output_type": "stream",
     "text": [
      "\n",
      "Frecuencia p (A): 0.65 \n",
      "Frecuencia q (a): 0.35 \n"
     ]
    }
   ],
   "source": [
    "# Paso 2: Calcular frecuencias alélicas\n",
    "p <- (2*obs_counts[\"AA\"] + obs_counts[\"Aa\"]) / (2*n)  # frecuencia A\n",
    "q <- 1 - p                                            # frecuencia a\n",
    "\n",
    "cat(\"\\nFrecuencia p (A):\", round(p, 3), \"\\n\")\n",
    "cat(\"Frecuencia q (a):\", round(q, 3), \"\\n\")"
   ]
  },
  {
   "cell_type": "code",
   "execution_count": 4,
   "id": "b0d1832e-31d6-439e-8f93-15dd9c1cad0f",
   "metadata": {},
   "outputs": [
    {
     "data": {
      "text/html": [
       "<style>\n",
       ".dl-inline {width: auto; margin:0; padding: 0}\n",
       ".dl-inline>dt, .dl-inline>dd {float: none; width: auto; display: inline-block}\n",
       ".dl-inline>dt::after {content: \":\\0020\"; padding-right: .5ex}\n",
       ".dl-inline>dt:not(:first-of-type) {padding-left: .5ex}\n",
       "</style><dl class=dl-inline><dt>AA.AA</dt><dd>42.25</dd><dt>Aa.AA</dt><dd>45.5</dd><dt>aa.AA</dt><dd>12.25</dd></dl>\n"
      ],
      "text/latex": [
       "\\begin{description*}\n",
       "\\item[AA.AA] 42.25\n",
       "\\item[Aa.AA] 45.5\n",
       "\\item[aa.AA] 12.25\n",
       "\\end{description*}\n"
      ],
      "text/markdown": [
       "AA.AA\n",
       ":   42.25Aa.AA\n",
       ":   45.5aa.AA\n",
       ":   12.25\n",
       "\n"
      ],
      "text/plain": [
       "AA.AA Aa.AA aa.AA \n",
       "42.25 45.50 12.25 "
      ]
     },
     "metadata": {},
     "output_type": "display_data"
    }
   ],
   "source": [
    "# Paso 3: Frecuencias esperadas bajo Hardy-Weinberg\n",
    "exp_freqs <- c(AA = p^2, Aa = 2*p*q, aa = q^2)\n",
    "exp_counts <- exp_freqs * n\n",
    "exp_counts"
   ]
  },
  {
   "cell_type": "code",
   "execution_count": 5,
   "id": "6f7b97ca-63d9-4b6b-8c26-59db70ab2f4f",
   "metadata": {},
   "outputs": [
    {
     "name": "stdout",
     "output_type": "stream",
     "text": [
      "  Genotipo Observados Esperados\n",
      "1       AA         45     42.25\n",
      "2       Aa         40     45.50\n",
      "3       aa         15     12.25\n"
     ]
    }
   ],
   "source": [
    "# Paso 4: Comparar observados vs esperados\n",
    "tabla <- data.frame(\n",
    "  Genotipo = names(obs_counts),\n",
    "  Observados = as.numeric(obs_counts),\n",
    "  Esperados = as.numeric(exp_counts)\n",
    ")\n",
    "print(tabla)"
   ]
  },
  {
   "cell_type": "code",
   "execution_count": 6,
   "id": "f05d5fad-1d8e-4e1f-b28b-3bf685f63bc9",
   "metadata": {},
   "outputs": [
    {
     "name": "stdout",
     "output_type": "stream",
     "text": [
      "\n",
      "📊 Test Chi-cuadrado:\n",
      "\n",
      "\tChi-squared test for given probabilities\n",
      "\n",
      "data:  obs_counts\n",
      "X-squared = 1.4612, df = 2, p-value = 0.4816\n",
      "\n",
      "✅ No hay evidencia significativa de desviación: equilibrio H-W.\n"
     ]
    }
   ],
   "source": [
    "# Paso 5: Test Chi-cuadrado\n",
    "chi2 <- chisq.test(x = obs_counts, p = exp_freqs, rescale.p = TRUE)\n",
    "\n",
    "cat(\"\\n📊 Test Chi-cuadrado:\\n\")\n",
    "print(chi2)\n",
    "\n",
    "if (chi2$p.value > 0.05) {\n",
    "  cat(\"✅ No hay evidencia significativa de desviación: equilibrio H-W.\\n\")\n",
    "} else {\n",
    "  cat(\"⚠️ Se detecta desviación: puede haber fuerzas evolutivas en acción.\\n\")\n",
    "}"
   ]
  },
  {
   "cell_type": "code",
   "execution_count": 7,
   "id": "9e6a19ed-3afb-48c4-985f-480c2eb8421f",
   "metadata": {},
   "outputs": [
    {
     "data": {
      "image/png": "[encoded data removed]",
      "text/plain": [
       "plot without title"
      ]
     },
     "metadata": {
      "image/png": {
       "height": 420,
       "width": 420
      }
     },
     "output_type": "display_data"
    }
   ],
   "source": [
    "barplot(rbind(obs_counts, exp_counts),\n",
    "        beside = TRUE, col = c(\"skyblue\", \"tomato\"),\n",
    "        names.arg = c(\"AA\", \"Aa\", \"aa\"),\n",
    "        legend = c(\"Observados\", \"Esperados\"))"
   ]
  }
 ],
 "metadata": {
  "kernelspec": {
   "display_name": "R",
   "language": "R",
   "name": "ir"
  },
  "language_info": {
   "codemirror_mode": "r",
   "file_extension": ".r",
   "mimetype": "text/x-r-source",
   "name": "R",
   "pygments_lexer": "r",
   "version": "4.3.3"
  }
 },
 "nbformat": 4,
 "nbformat_minor": 5
}

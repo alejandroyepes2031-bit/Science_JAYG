{
 "cells": [
  {
   "cell_type": "markdown",
   "id": "687aa1f6-8964-4901-be9e-699b1106eda5",
   "metadata": {},
   "source": [
    "## De ADN a ARNm\n",
    "\n",
    "Este notebook explica cómo convertir una o varias secuencias de ADN a ARNm (transcripción) paso a paso. Útil para ejercicios cortos de aula con fines pedagógicos. Para analizar datos masivos como archivos tipo FASTA existen métodos optimizados."
   ]
  },
  {
   "cell_type": "code",
   "execution_count": 3,
   "id": "7741a5e4-4715-47c0-bb54-5303ba6c0a5c",
   "metadata": {},
   "outputs": [
    {
     "data": {
      "text/html": [
       "<table class=\"dataframe\">\n",
       "<caption>A data.frame: 3 × 2</caption>\n",
       "<thead>\n",
       "\t<tr><th></th><th scope=col>ADN</th><th scope=col>ARNm</th></tr>\n",
       "\t<tr><th></th><th scope=col>&lt;chr&gt;</th><th scope=col>&lt;chr&gt;</th></tr>\n",
       "</thead>\n",
       "<tbody>\n",
       "\t<tr><th scope=row>ATGCGTACCTGA</th><td>ATGCGTACCTGA</td><td>UACGCAUGGACU</td></tr>\n",
       "\t<tr><th scope=row>TACG</th><td>TACG        </td><td>AUGC        </td></tr>\n",
       "\t<tr><th scope=row>GGGCCCATA</th><td>GGGCCCATA   </td><td>CCCGGGUAU   </td></tr>\n",
       "</tbody>\n",
       "</table>\n"
      ],
      "text/latex": [
       "A data.frame: 3 × 2\n",
       "\\begin{tabular}{r|ll}\n",
       "  & ADN & ARNm\\\\\n",
       "  & <chr> & <chr>\\\\\n",
       "\\hline\n",
       "\tATGCGTACCTGA & ATGCGTACCTGA & UACGCAUGGACU\\\\\n",
       "\tTACG & TACG         & AUGC        \\\\\n",
       "\tGGGCCCATA & GGGCCCATA    & CCCGGGUAU   \\\\\n",
       "\\end{tabular}\n"
      ],
      "text/markdown": [
       "\n",
       "A data.frame: 3 × 2\n",
       "\n",
       "| <!--/--> | ADN &lt;chr&gt; | ARNm &lt;chr&gt; |\n",
       "|---|---|---|\n",
       "| ATGCGTACCTGA | ATGCGTACCTGA | UACGCAUGGACU |\n",
       "| TACG | TACG         | AUGC         |\n",
       "| GGGCCCATA | GGGCCCATA    | CCCGGGUAU    |\n",
       "\n"
      ],
      "text/plain": [
       "             ADN          ARNm        \n",
       "ATGCGTACCTGA ATGCGTACCTGA UACGCAUGGACU\n",
       "TACG         TACG         AUGC        \n",
       "GGGCCCATA    GGGCCCATA    CCCGGGUAU   "
      ]
     },
     "metadata": {},
     "output_type": "display_data"
    }
   ],
   "source": [
    "# De ADN a ARNm en R\n",
    "\n",
    "# Función para transcribir una o varias secuencias de ADN (hebra molde) a ARNm\n",
    "transcribir_adn_a_arn <- function(adn_vec) {\n",
    "  adn_vec <- toupper(adn_vec)\n",
    "  bases_adn <- c(\"A\", \"T\", \"G\", \"C\")\n",
    "  bases_arn <- c(\"U\", \"A\", \"C\", \"G\")\n",
    "  \n",
    "  transcribir_una <- function(seq) {\n",
    "    split_seq <- strsplit(seq, \"\")[[1]]\n",
    "    arn <- paste(bases_arn[match(split_seq, bases_adn)], collapse = \"\")\n",
    "    return(arn)\n",
    "  }\n",
    "  \n",
    "  arn_vec <- sapply(adn_vec, transcribir_una)\n",
    "  return(arn_vec)\n",
    "}\n",
    "\n",
    "# Ejemplo con varias secuencias\n",
    "secuencias_adn <- c(\"ATGCGTACCTGA\", \"TACG\", \"GGGCCCATA\")\n",
    "secuencias_arn <- transcribir_adn_a_arn(secuencias_adn)\n",
    "\n",
    "# Mostrar resultados en tabla\n",
    "data.frame(ADN = secuencias_adn, ARNm = secuencias_arn)"
   ]
  },
  {
   "cell_type": "markdown",
   "id": "f64790f2-b56e-486d-a4fc-5b59c514eb3e",
   "metadata": {},
   "source": [
    "**Ejercicio:**\n",
    "\n",
    "1. Cambia la secuencia de ADN y observa cómo cambia la transcripción.\n",
    "2. ¿Qué pasaría si introduces caracteres que no son A, T, G o C?"
   ]
  },
  {
   "cell_type": "markdown",
   "id": "cbebb720-9924-45da-aaa6-2334617260e0",
   "metadata": {},
   "source": [
    "### Nota"
   ]
  },
  {
   "cell_type": "code",
   "execution_count": 4,
   "id": "c7fbc57b-e29d-40ec-8bcb-cb319da00e62",
   "metadata": {},
   "outputs": [
    {
     "data": {
      "text/plain": [
       "R version 4.3.3 (2024-02-29)\n",
       "Platform: x86_64-pc-linux-gnu (64-bit)\n",
       "Running under: Ubuntu 24.04.3 LTS\n",
       "\n",
       "Matrix products: default\n",
       "BLAS:   /usr/lib/x86_64-linux-gnu/blas/libblas.so.3.12.0 \n",
       "LAPACK: /usr/lib/x86_64-linux-gnu/lapack/liblapack.so.3.12.0\n",
       "\n",
       "locale:\n",
       " [1] LC_CTYPE=es_ES.UTF-8       LC_NUMERIC=C              \n",
       " [3] LC_TIME=es_ES.UTF-8        LC_COLLATE=es_ES.UTF-8    \n",
       " [5] LC_MONETARY=es_ES.UTF-8    LC_MESSAGES=es_ES.UTF-8   \n",
       " [7] LC_PAPER=es_ES.UTF-8       LC_NAME=C                 \n",
       " [9] LC_ADDRESS=C               LC_TELEPHONE=C            \n",
       "[11] LC_MEASUREMENT=es_ES.UTF-8 LC_IDENTIFICATION=C       \n",
       "\n",
       "time zone: America/Bogota\n",
       "tzcode source: system (glibc)\n",
       "\n",
       "attached base packages:\n",
       "[1] stats     graphics  grDevices utils     datasets  methods   base     \n",
       "\n",
       "loaded via a namespace (and not attached):\n",
       " [1] digest_0.6.37     IRdisplay_1.1     base64enc_0.1-3   fastmap_1.2.0    \n",
       " [5] glue_1.8.0        htmltools_0.5.8.1 repr_1.1.7        lifecycle_1.0.4  \n",
       " [9] cli_3.6.5         vctrs_0.6.5       pbdZMQ_0.3-14     compiler_4.3.3   \n",
       "[13] tools_4.3.3       evaluate_1.0.5    pillar_1.11.0     rlang_1.1.6      \n",
       "[17] jsonlite_2.0.0    crayon_1.5.3      IRkernel_1.3.2    uuid_1.2-1       "
      ]
     },
     "metadata": {},
     "output_type": "display_data"
    }
   ],
   "source": [
    "# Información de versión para reproducibilidad\n",
    "\n",
    "sessionInfo()"
   ]
  }
 ],
 "metadata": {
  "kernelspec": {
   "display_name": "R",
   "language": "R",
   "name": "ir"
  },
  "language_info": {
   "codemirror_mode": "r",
   "file_extension": ".r",
   "mimetype": "text/x-r-source",
   "name": "R",
   "pygments_lexer": "r",
   "version": "4.3.3"
  }
 },
 "nbformat": 4,
 "nbformat_minor": 5
}

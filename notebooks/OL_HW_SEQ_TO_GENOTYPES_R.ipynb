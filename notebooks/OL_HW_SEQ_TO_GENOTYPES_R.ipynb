{
 "cells": [
  {
   "cell_type": "markdown",
   "id": "a7b69ddf-669f-47fa-a7c9-234ab61d3b65",
   "metadata": {},
   "source": [
    "## ¿Cómo se identifican los genotipos cuando se tienen las secuencias de ADN?"
   ]
  },
  {
   "cell_type": "markdown",
   "id": "c8a36b94-13db-451b-9097-4993c2933807",
   "metadata": {},
   "source": [
    "Cuando un investigador quiere saber si una población está en equilibrio de Hardy–Weinberg, necesita genotipos de los individuos (por ejemplo: AA, Aa, aa)."
   ]
  },
  {
   "cell_type": "markdown",
   "id": "9b92e416-a5d5-4ee3-93e2-06517c7bb3af",
   "metadata": {},
   "source": [
    "En la práctica, esos genotipos no aparecen escritos directamente en la muestra. Lo que tenemos normalmente es el ADN secuenciado en el locus de interés."
   ]
  },
  {
   "cell_type": "markdown",
   "id": "c0d45108-ff83-40f5-be07-29ea2ad5b8ad",
   "metadata": {},
   "source": [
    "**Ejemplo:** En un locus con dos alelos"
   ]
  },
  {
   "cell_type": "markdown",
   "id": "fe739142-4099-49a3-aeb8-d175e951297b",
   "metadata": {},
   "source": [
    "- Queremos estudiar una posición del genoma (un **SNP**) donde algunos individuos tienen una A y otros una G.\n",
    "\n",
    "  SNP son las siglas de Polimorfismo de Nucleótido Único (Single Nucleotide Polymorphism), un tipo de variación genética que ocurre cuando un solo nucleótido (A, T, C o G) en la secuencia de ADN difiere entre individuos de una misma especie. Los SNP son el tipo de variación genética más común."
   ]
  },
  {
   "cell_type": "markdown",
   "id": "556532d6-6540-43d8-85b8-3ab3fc6832a0",
   "metadata": {},
   "source": [
    "Para esto, conviene conocer el código IUPAC para los nucleótidos, que suele utilizarse para representar bases ambiguas cuando un individuo es heterocigoto en un sitio (tiene dos alelos distintos, uno en cada cromosoma)."
   ]
  },
  {
   "cell_type": "markdown",
   "id": "8ff854df-8429-4334-b01f-9be238536845",
   "metadata": {},
   "source": [
    "| Símbolo | Significado                  | Bases posibles | Ejemplo de uso             |\n",
    "| ------- | ---------------------------- | -------------- | -------------------------- |\n",
    "| **A**   | Adenina                      | A              | Homocigoto A               |\n",
    "| **C**   | Citosina                     | C              | Homocigoto C               |\n",
    "| **G**   | Guanina                      | G              | Homocigoto G               |\n",
    "| **T**   | Timina                       | T              | Homocigoto T               |\n",
    "| **U**   | Uracilo                      | U              | Solo en ARN                |\n",
    "| **R**   | puRina                       | A o G          | Heterocigoto A/G           |\n",
    "| **Y**   | pYrimidina                   | C o T          | Heterocigoto C/T           |\n",
    "| **S**   | Strong (fuerte, 3 enlaces H) | G o C          | SNP G/C                    |\n",
    "| **W**   | Weak (débil, 2 enlaces H)    | A o T          | SNP A/T                    |\n",
    "| **K**   | Keto                         | G o T          | SNP G/T                    |\n",
    "| **M**   | aMino                        | A o C          | SNP A/C                    |\n",
    "| **B**   | not A                        | C o G o T      | Variantes C/G/T            |\n",
    "| **D**   | not C                        | A o G o T      | Variantes A/G/T            |\n",
    "| **H**   | not G                        | A o C o T      | Variantes A/C/T            |\n",
    "| **V**   | not T                        | A o C o G      | Variantes A/C/G            |\n",
    "| **N**   | aNy                          | A o C o G o T  | N = nucleótido desconocido |\n"
   ]
  },
  {
   "cell_type": "markdown",
   "id": "cf50beb1-e274-4392-a19a-79f6b78c0209",
   "metadata": {},
   "source": [
    "| Símbolo | Significado                        | Nota                                                     |\n",
    "| ------- | ---------------------------------- | -------------------------------------------------------- |\n",
    "| **-**   | GAP (inserción/deleción en alineo) | **No es IUPAC**; indica ausencia de base en esa posición |"
   ]
  },
  {
   "cell_type": "markdown",
   "id": "d988f6f6-9917-4bb2-908b-f70e8db97326",
   "metadata": {},
   "source": [
    "**Nota:** Cuando haces genotipado a partir de secuencias, lo más común es ver R, Y, M, K, S, W porque indican heterocigotos claros.\n",
    "\n",
    "Los códigos de 3 bases (B, D, H, V) y el N suelen aparecer en secuencias de baja calidad, cuando el secuenciador no puede asignar un alelo único."
   ]
  },
  {
   "cell_type": "markdown",
   "id": "346a1d92-79cb-4b06-8e03-36318b094134",
   "metadata": {},
   "source": [
    "- Ahora, imagina que secuencias un locus de 7 bases en 6 individuos. \n",
    "En la posición 4 hay variación: algunos tienen A, otros G."
   ]
  },
  {
   "cell_type": "markdown",
   "id": "9429065d-0d4d-4a00-a4ec-7e94886f62d5",
   "metadata": {},
   "source": [
    "**Secuencias de los individuos**"
   ]
  },
  {
   "cell_type": "markdown",
   "id": "4cd2f732-5f50-49a5-be8a-103f1bdaa616",
   "metadata": {},
   "source": [
    "Ind1: ATCAAAA\n",
    "\n",
    "Ind2: ATCGAAA\n",
    "\n",
    "Ind3: ATCGAAA\n",
    "\n",
    "Ind4: ATCAAAA\n",
    "\n",
    "Ind5: ATCRAAA\n",
    "\n",
    "Ind6: ATCAAAA"
   ]
  },
  {
   "cell_type": "markdown",
   "id": "4c340724-f5fe-4816-9fc7-2e4202a02ee7",
   "metadata": {},
   "source": [
    "**Identificar el SNP (posición 4)**, aquí es donde está el polimorfismo:"
   ]
  },
  {
   "cell_type": "markdown",
   "id": "2d18efdf-a5c7-4aea-8c5b-c05e12cd2260",
   "metadata": {},
   "source": [
    "| Individuo | Posición 4 | Código IUPAC | Interpretación   |\n",
    "| --------- | ---------- | ------------ | ---------------- |\n",
    "| Ind1      | A          | A            | Homocigoto A/A   |\n",
    "| Ind2      | G          | G            | Homocigoto G/G   |\n",
    "| Ind3      | G          | G            | Homocigoto G/G   |\n",
    "| Ind4      | A          | A            | Homocigoto A/A   |\n",
    "| Ind5      | R          | R = A/G      | Heterocigoto A/G |\n",
    "| Ind6      | A          | A            | Homocigoto A/A   |"
   ]
  },
  {
   "cell_type": "markdown",
   "id": "92e50199-1649-4011-871f-4ec2aa3f6ac8",
   "metadata": {},
   "source": [
    "**Convertir a genotipos**"
   ]
  },
  {
   "cell_type": "markdown",
   "id": "9a2e7724-0bbb-4c78-b3d0-450eeaaaa4ae",
   "metadata": {},
   "source": [
    "Ind1 → AA\n",
    "\n",
    "Ind2 → GG\n",
    "\n",
    "Ind3 → GG\n",
    "\n",
    "Ind4 → AA\n",
    "\n",
    "Ind5 → AG\n",
    "\n",
    "Ind6 → AA"
   ]
  },
  {
   "cell_type": "markdown",
   "id": "11e784bb-7676-4d11-b8b5-9eb75a26aa8a",
   "metadata": {},
   "source": [
    "**Conteo de genotipos observados**"
   ]
  },
  {
   "cell_type": "markdown",
   "id": "51c9e01b-8c8d-4df2-90a5-1b7f7c6ba24a",
   "metadata": {},
   "source": [
    "| Genotipo | Conteo |\n",
    "| -------- | ------ |\n",
    "| **AA**   | 3      |\n",
    "| **AG**   | 1      |\n",
    "| **GG**   | 2      |"
   ]
  },
  {
   "cell_type": "markdown",
   "id": "59736941-8521-41de-a59a-d3c17a5117a1",
   "metadata": {},
   "source": [
    "Ahora ya tienes la tabla de genotipos observados que se usa en el test de Hardy–Weinberg.\n",
    "\n",
    "Lo que hicimos fue leer un SNP en un conjunto de secuencias, usar el código IUPAC para interpretar heterocigotos y convertir los datos a genotipos contables."
   ]
  },
  {
   "cell_type": "markdown",
   "id": "45a0c2ab-67db-48ad-9e57-811f4d0a28a8",
   "metadata": {},
   "source": [
    "Sin embargo, es importante considerar que en casos más complejos los conteos observados pueden cambiar por datos faltantes, ambigüedades, indels, errores de secuenciación, multialelismo..., lo que obliga a filtrar, excluir o redefinir cómo se cuentan los genotipos antes de probar Hardy–Weinberg. Además, la gran cantidad de datos que pueden surgir de secuencias muy largas y multiples sitios variantes (SNPs) hace necesario el uso de métodos optimizados."
   ]
  },
  {
   "cell_type": "markdown",
   "id": "91316e07-781f-4a60-9d1f-a8246683c102",
   "metadata": {},
   "source": [
    "**Bonus:**"
   ]
  },
  {
   "cell_type": "markdown",
   "id": "226d722c-3f94-4754-a7aa-643c323c1450",
   "metadata": {},
   "source": [
    "**Definición de locus**\n",
    "\n",
    "Un locus (plural loci) es una región con una posición, usualmente fija, en un cromosoma.\n",
    "\n",
    "Esta región puede referirse a:\n",
    "\n",
    "- Un gen completo, un microsatélite, o cualquier fragmento de ADN definido."
   ]
  },
  {
   "cell_type": "markdown",
   "id": "df70feed-459a-49a3-9f03-a2eb5fcea85e",
   "metadata": {},
   "source": [
    "Los cromosomas son numerados por tamaño, por ejemplo, en humanos los 23 pares de cromosomas (excepto: XY) reciben una numeración en la que 1 corresponde al par de cromosomas homologos más largos, 2 al par que sigue en tamaño y así sucesivamente."
   ]
  },
  {
   "cell_type": "markdown",
   "id": "212978f6-5435-47bb-9953-d65af0ba6735",
   "metadata": {},
   "source": [
    "Para localizar regiones en los cromosomas, tradicionalmente se ha utilizado como referencia al conjunto de bandas que se observa cuando se usa una tinción sobre el cromosoma que hace que las regiones más enrolladas y, por tanto, más densas, se vean más oscuras dándoles esa apariencia característica de banda. Junto con este patrón de bandas, se utiliza también su posición de acuerdo a los brazos cortos y largos que son definidos con respecto al centrómero. Con esta información cada banda oscura y clara recibe una localización alfanumérica. A este método se le conoce como localización citogenética."
   ]
  },
  {
   "cell_type": "markdown",
   "id": "3356be7b-240a-4721-9836-fa20c04ce714",
   "metadata": {},
   "source": [
    "Con la secuenciación de los genomas, se viene adoptando la localización molecular. En la que cada cromosoma es secuenciado y organizado de manera que a cada nucleótido le correponde la numeración del lugar que ocupa dentro de la secuencia ordenada (5'- 3'). De esta manera, las regiones de interés son nombradas de acuerdo a su tamaño y a su localización con respecto a esta secuencia de nucleótidos. Esto hace de este método mucho más específico."
   ]
  }
 ],
 "metadata": {
  "kernelspec": {
   "display_name": "R",
   "language": "R",
   "name": "ir"
  },
  "language_info": {
   "codemirror_mode": "r",
   "file_extension": ".r",
   "mimetype": "text/x-r-source",
   "name": "R",
   "pygments_lexer": "r",
   "version": "4.3.3"
  }
 },
 "nbformat": 4,
 "nbformat_minor": 5
}

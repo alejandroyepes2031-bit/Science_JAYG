{
 "cells": [
  {
   "cell_type": "markdown",
   "id": "3653a3ba-8839-4037-ac31-b731fefb1abc",
   "metadata": {},
   "source": [
    "## **Breve historia de la genética de poblaciones**"
   ]
  },
  {
   "cell_type": "markdown",
   "id": "b740444d-ed22-4fa6-b06c-b1d51e77883d",
   "metadata": {},
   "source": [
    "Corría el siglo XX y la comunidad científica se encontraba dividida por un complejo debate tras el redescubrimiento de Mendel en 1900."
   ]
  },
  {
   "cell_type": "markdown",
   "id": "12de458d-0c9c-43cb-bb98-05e45d089d0f",
   "metadata": {},
   "source": [
    "- Los mendelianos, como Reginald C. Punnett y su mentor William Bateson, defendían la herencia basada en factores discretos (genes) con efectos definidos.  \n",
    "- Los biometricistas, como Karl Pearson y W.F.R. Weldon, estudiaban rasgos continuos —como la estatura o el peso— y concebían la evolución como un proceso gradual, siguiendo a Darwin y Wallace."
   ]
  },
  {
   "cell_type": "markdown",
   "id": "b7ea319f-f776-42b0-b502-49b0dd5f2fce",
   "metadata": {},
   "source": [
    "El conflicto parecía irreconciliable: ¿cómo podía la herencia mendeliana, con sus categorías simples, explicar la complejidad continua de la variación natural?"
   ]
  },
  {
   "cell_type": "markdown",
   "id": "84e9b5e2-1fc4-482b-8bd0-8324d4ee5aa3",
   "metadata": {},
   "source": [
    "En este contexto, en 1903, William E. Castle, uno de los primeros genetistas experimentales en Estados Unidos, comenzó a investigar cómo se transmiten las frecuencias alélicas en poblaciones.\n",
    "Trabajando con cobayos, Castle aplicó principios mendelianos no solo para estudiar rasgos individuales, sino también para comprender cómo se comportaban los genes en conjunto. Aunque no lo formuló matemáticamente como una ley general, sus experimentos demostraron algo crucial:"
   ]
  },
  {
   "cell_type": "markdown",
   "id": "759b2721-a661-48c6-808c-9b469207b3e3",
   "metadata": {},
   "source": [
    "El cruzamiento aleatorio por sí solo no altera las frecuencias génicas."
   ]
  },
  {
   "cell_type": "markdown",
   "id": "3a8f202b-0348-4385-8ca7-2af913619f59",
   "metadata": {},
   "source": [
    "Este hallazgo empírico anticipaba la idea central de lo que más tarde se conocería como el equilibrio de Hardy–Weinberg."
   ]
  },
  {
   "cell_type": "markdown",
   "id": "650f0102-a316-49e2-a7cd-cbdc86fefdd3",
   "metadata": {},
   "source": [
    "Cinco años más tarde, en Inglaterra, 1908, - (Por el mismo tiempo en que comenzarían a dar frutos las investigaciones en *Drosophila* de Thomas Hunt Morgan y sus estudiantes Hermann Müller, Calvin Bridges y Alfred Sturtevant ¿1900 marco el inicio de la época dorada de la genética?) - durante una reunión de la Sociedad de Medicina en Cambridge, Punnett presentó una charla sobre la herencia mendeliana de ciertos rasgos humanos, entre ellos la braquidactilia, una condición genética dominante que afecta el desarrollo de los dedos.\n",
    "\n",
    "El estadístico G. Udny Yule intervino y señaló que, si la braquidactilia era efectivamente determinada por un alelo dominante y si el apareamiento era aleatorio, entonces, bajo ciertas suposiciones —en particular, si la frecuencia alélica del alelo dominante fuera 0.5— se esperaría una proporción fenotípica 3:1.\n",
    "Sin embargo, ese patrón no se observaba en la población, lo que sugería a Yule, que algo no encajaba con las predicciones mendelianas."
   ]
  },
  {
   "cell_type": "markdown",
   "id": "94ab283c-6b11-4b89-b5a4-fcb279be3602",
   "metadata": {},
   "source": [
    "Punnett, confundido, interpretó erróneamente la intervención de Yule como una sugerencia de que la población debería volverse progresivamente más braquidactílica con el tiempo. Esta no era la intención original de Yule, pero Punnett quedó intrigado por lo que creía ser una paradoja:"
   ]
  },
  {
   "cell_type": "markdown",
   "id": "94f90dc5-bd5c-42bd-84d0-e44bdeccdd31",
   "metadata": {},
   "source": [
    "Si el rasgo era dominante y los individuos lo transmitían mediante las leyes de Mendel, ¿por qué no aumentaba su frecuencia con cada generación?"
   ]
  },
  {
   "cell_type": "markdown",
   "id": "e2a1bca4-e7c8-4024-8bb3-b50645c229bc",
   "metadata": {},
   "source": [
    "Estos argumentos reflejaban una confusión común en la época: Yule parecía asumir implícitamente que la frecuencia del alelo dominante era 0.5 (por sus análisis en 1902, de un solo ejemplo, concluyó erróneamente que este era el único punto de equilibrio posible en un sistema bialélico) y que todos los alelos alcanzaban el equilibrio en ese valor, lo que lleva a un equilibrio genotípico 3:1. Sin embargo, en la práctica, la frecuencia alélica puede variar ampliamente y no necesariamente alcanzar ese valor."
   ]
  },
  {
   "cell_type": "markdown",
   "id": "ac97c370-bf0d-4b6f-b8a0-dabe4f716703",
   "metadata": {},
   "source": [
    "Punnett, por otro lado, estaba desconcertado ante el hecho de que un rasgo como la braquidactilia, siendo dominante, no se volviera más común en la población con el tiempo. Su confusión reflejaba una idea intuitiva pero equivocada: que los alelos dominantes, al expresarse más fácilmente, necesariamente se harían más frecuentes con el tiempo."
   ]
  },
  {
   "cell_type": "markdown",
   "id": "d715e244-425b-47e5-a9ee-9cdaec54ec55",
   "metadata": {},
   "source": [
    "Intrigado por esta aparente paradoja, Punnett discutió el problema con su colega, el matemático G.H. Hardy, quien respondió con una publicación en *Science* ese mismo año. Allí demostró que, bajo condiciones ideales —poblaciones grandes, cruzamiento aleatorio y ausencia de mutación, selección, migración o deriva genética—:"
   ]
  },
  {
   "cell_type": "markdown",
   "id": "99e61d17-3d17-4a6c-ba47-2154a1796f5d",
   "metadata": {},
   "source": [
    "- Las frecuencias genotípicas alcanzan un equilibrio en una sola generación.\n",
    "- Las frecuencias alélicas permanecen constantes, independientemente de la dominancia del alelo."
   ]
  },
  {
   "cell_type": "markdown",
   "id": "1fce1d5b-463f-4d73-9d9f-b256e1af0919",
   "metadata": {},
   "source": [
    "De manera independiente, el médico alemán Wilhelm Weinberg había llegado a las mismas conclusiones unos meses antes, aunque lo publicaría en alemán, lo que dificultó su difusión en el mundo angloparlante. Solo en 1943, gracias al genetista germano-estadounidense Curt Stern, su contribución fue reconocida."
   ]
  },
  {
   "cell_type": "markdown",
   "id": "d9a2ee65-e366-4025-99a5-1200e24c523d",
   "metadata": {},
   "source": [
    "Desde entonces, el principio se conoce como el **equilibrio de Hardy–Weinberg**, reconociendo la contribución simultánea de ambos científicos."
   ]
  },
  {
   "cell_type": "markdown",
   "id": "0e5708ba-398a-4800-9b7b-2d365f0fcad3",
   "metadata": {},
   "source": [
    "Pero la historia no terminó allí. En Estados Unidos, en 1917, Herbert Spencer Jennings aportó un enfoque cuantitativo usando poblaciones de protozoos.\n",
    "Jennings demostró que las frecuencias alélicas podían mantenerse constantes en poblaciones sin fuerzas evolutivas, pero también que podían cambiar bajo la acción de la selección o la deriva.\n",
    "Su aporte más influyente fue proponer que la variación continua podía emerger de factores mendelianos discretos. En otras palabras:"
   ]
  },
  {
   "cell_type": "markdown",
   "id": "ccd4f9e5-6755-45ca-9426-f6400457ca4e",
   "metadata": {},
   "source": [
    "Si múltiples genes mendelianos afectan un rasgo, y se suma la influencia del ambiente, el resultado es una distribución continua de fenotipos."
   ]
  },
  {
   "cell_type": "markdown",
   "id": "8664dde9-246f-4be5-a9cf-33e7a6606b38",
   "metadata": {},
   "source": [
    "Este concepto anticipó lo que después se llamaría herencia poligénica, y sirvió de puente entre mendelianos y biometricistas."
   ]
  },
  {
   "cell_type": "markdown",
   "id": "4c797fa1-3a9c-41b4-9842-3b2c5f5351ac",
   "metadata": {},
   "source": [
    "En 1918, Rainard B. Robbins extendió el marco al considerar dos loci y observar que los alelos no siempre se asociaban al azar.\n",
    "Esto reveló que la recombinación, la selección y el tamaño poblacional podían generar asociaciones no aleatorias entre loci, introduciendo lo que más tarde se llamaría desequilibrio de ligamiento (LD). Lo que parecía una anomalía matemática se convirtió en una herramienta central para mapear genes y reconstruir la historia evolutiva de las poblaciones."
   ]
  },
  {
   "cell_type": "markdown",
   "id": "acb306f4-c3d9-4e23-9f0b-de70d7e57589",
   "metadata": {},
   "source": [
    "A partir de estas bases, la genética de poblaciones dio un salto con los trabajos de Ronald A. Fisher, J.B.S. Haldane y Sewall Wright, quienes formularon los modelos cuantitativos que unificaron la genética mendeliana con la evolución darwiniana."
   ]
  },
  {
   "cell_type": "markdown",
   "id": "d6e7b0a2-e53a-4462-a1a9-37c39ada7cc3",
   "metadata": {},
   "source": [
    "En 1918, Fisher demostró que los caracteres cuantitativos podían explicarse por la acción combinada de muchos genes discretos con efectos pequeños más el ambiente, resolviendo el conflicto entre mendelianos y biometricistas. (A diferencia de Jennings, Fisher lo demostró matemáticamente y de manera concluyente)"
   ]
  },
  {
   "cell_type": "markdown",
   "id": "669e9433-0635-4315-9490-a25184d2a665",
   "metadata": {},
   "source": [
    "Así, se abrió el camino hacia la síntesis moderna de la evolución."
   ]
  },
  {
   "cell_type": "markdown",
   "id": "3e9cdc0b-fd14-42a3-9e8b-599825a5b048",
   "metadata": {},
   "source": [
    "**Referencias**\n",
    "\n",
    "Edwards, A. W. F. (2008). G. H. Hardy (1908) and Hardy–Weinberg equilibrium. *Genetics*, 179(3), 1143–1150.\n",
    "\n",
    "Freeman, S., & Herron, J. C. (2007). Evolutionary analysis (4th ed.). *Pearson*.\n",
    "\n",
    "Joshi, A. (2008). Hardy–Weinberg equilibrium and the foundations of evolutionary genetics. *Resonance*, 13(9), 812–827.\n",
    "\n",
    "Mayo, O. (2008). A century of Hardy–Weinberg equilibrium. *Twin Research and Human Genetics*, 11(3), 249–256.\n",
    "\n",
    "Provine, W. B. (2020). The Origins of Theoretical Population Genetics. *University of Chicago Press*.\n",
    "\n",
    "Sved, J. A., & Hill, W. G. (2018). One hundred years of linkage disequilibrium. *Genetics*, 209(3), 629–636.\n",
    "\n",
    "Templeton, A. R. (2021). Population Genetics and Microevolutionary Theory (2nd ed.). *Wiley-Blackwell*."
   ]
  }
 ],
 "metadata": {
  "kernelspec": {
   "display_name": "R",
   "language": "R",
   "name": "ir"
  },
  "language_info": {
   "codemirror_mode": "r",
   "file_extension": ".r",
   "mimetype": "text/x-r-source",
   "name": "R",
   "pygments_lexer": "r",
   "version": "4.3.3"
  }
 },
 "nbformat": 4,
 "nbformat_minor": 5
}

{
 "cells": [
  {
   "cell_type": "markdown",
   "id": "77bf7af3",
   "metadata": {},
   "source": [
    "# De ADN a ARNm\n",
    "\n",
    "Este notebook explica cómo convertir una secuencia de ADN en su transcripción a ARNm paso a paso."
   ]
  },
  {
   "cell_type": "code",
   "execution_count": 5,
   "id": "60fe9844",
   "metadata": {},
   "outputs": [
    {
     "name": "stdout",
     "output_type": "stream",
     "text": [
      "ADN : ATGCGTACCTGA\n",
      "ARNm: AUGCGUACCUGA\n"
     ]
    }
   ],
   "source": [
    "# Función simple para transcribir ADN a ARN\n",
    "def transcribir_adn_a_arn(adn: str) -> str:\n",
    "    return adn.upper().replace(\"T\", \"U\")\n",
    "\n",
    "# Ejemplo de uso\n",
    "secuencia_adn = \"ATGCGTACCTGA\"\n",
    "secuencia_arn = transcribir_adn_a_arn(secuencia_adn)\n",
    "print(\"ADN :\", secuencia_adn)\n",
    "print(\"ARNm:\", secuencia_arn)"
   ]
  },
  {
   "cell_type": "markdown",
   "id": "d34dbeee",
   "metadata": {},
   "source": [
    "**Ejercicio:**\n",
    "\n",
    "1. Cambia la secuencia de ADN y observa cómo cambia la transcripción.\n",
    "2. ¿Qué pasaría si introduces caracteres que no son A, T, G o C?\n"
   ]
  },
  {
   "cell_type": "markdown",
   "id": "50ca84b9-9004-426c-8c52-60dc89f75e34",
   "metadata": {},
   "source": [
    "### Nota"
   ]
  },
  {
   "cell_type": "code",
   "execution_count": 6,
   "id": "bb4f0122-0b5c-40f1-848a-26340f02a351",
   "metadata": {},
   "outputs": [
    {
     "name": "stdout",
     "output_type": "stream",
     "text": [
      "Python: 3.12.3 (main, Aug 14 2025, 17:47:21) [GCC 13.3.0]\n",
      "JupyterLab: 4.4.7\n",
      "Sistema: Linux-6.14.0-29-generic-x86_64-with-glibc2.39\n"
     ]
    }
   ],
   "source": [
    "# Información de versión para reproducibilidad\n",
    "import sys\n",
    "import jupyterlab\n",
    "import platform\n",
    "\n",
    "print(\"Python:\", sys.version)\n",
    "print(\"JupyterLab:\", jupyterlab.__version__)\n",
    "print(\"Sistema:\", platform.platform())"
   ]
  },
  {
   "cell_type": "code",
   "execution_count": 7,
   "id": "08ac6dbe-aef7-4265-b270-58fd368765a1",
   "metadata": {},
   "outputs": [
    {
     "name": "stdout",
     "output_type": "stream",
     "text": [
      "Biopython: 1.85\n",
      "Pandas: 2.3.2\n",
      "Matplotlib: 3.10.6\n"
     ]
    }
   ],
   "source": [
    "import Bio\n",
    "import pandas as pd\n",
    "import matplotlib\n",
    "\n",
    "print(\"Biopython:\", Bio.__version__)\n",
    "print(\"Pandas:\", pd.__version__)\n",
    "print(\"Matplotlib:\", matplotlib.__version__)"
   ]
  }
 ],
 "metadata": {
  "kernelspec": {
   "display_name": "Python 3 (ipykernel)",
   "language": "python",
   "name": "python3"
  },
  "language_info": {
   "codemirror_mode": {
    "name": "ipython",
    "version": 3
   },
   "file_extension": ".py",
   "mimetype": "text/x-python",
   "name": "python",
   "nbconvert_exporter": "python",
   "pygments_lexer": "ipython3",
   "version": "3.12.3"
  }
 },
 "nbformat": 4,
 "nbformat_minor": 5
}

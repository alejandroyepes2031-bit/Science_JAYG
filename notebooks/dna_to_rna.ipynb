{
 "cells": [
  {
   "cell_type": "markdown",
   "id": "77bf7af3",
   "metadata": {},
   "source": [
    "# De ADN a ARNm\n",
    "\n",
    "Este notebook explica cómo convertir una secuencia de ADN en su transcripción de ARNm paso a paso."
   ]
  },
  {
   "cell_type": "code",
   "execution_count": null,
   "id": "60fe9844",
   "metadata": {},
   "outputs": [],
   "source": [
    "# Función simple para transcribir ADN a ARN\n",
    "def transcribir_adn_a_arn(adn: str) -> str:\n",
    "    return adn.upper().replace(\"T\", \"U\")\n",
    "\n",
    "# Ejemplo de uso\n",
    "secuencia_adn = \"ATGCGTACCTGA\"\n",
    "secuencia_arn = transcribir_adn_a_arn(secuencia_adn)\n",
    "print(\"ADN :\", secuencia_adn)\n",
    "print(\"ARNm:\", secuencia_arn)"
   ]
  },
  {
   "cell_type": "markdown",
   "id": "d34dbeee",
   "metadata": {},
   "source": [
    "**Ejercicio:**\n",
    "\n",
    "1. Cambia la secuencia de ADN y observa cómo cambia la transcripción.\n",
    "2. ¿Qué pasaría si introduces caracteres que no son A, T, G o C?\n"
   ]
  }
 ],
 "metadata": {},
 "nbformat": 4,
 "nbformat_minor": 5
}
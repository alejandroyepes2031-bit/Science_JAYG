{
 "cells": [
  {
   "cell_type": "markdown",
   "id": "77bf7af3",
   "metadata": {},
   "source": [
    "# De ADN a ARNm\n",
    "\n",
    "Este notebook explica cómo convertir una o varias secuencias de ADN a ARNm (transcripción) paso a paso. Útil para ejercicios cortos de aula con fines pedagógicos. Para analizar datos masivos como archivos tipo FASTA existen métodos optimizados."
   ]
  },
  {
   "cell_type": "code",
   "execution_count": 13,
   "id": "60fe9844",
   "metadata": {},
   "outputs": [
    {
     "data": {
      "text/html": [
       "<div>\n",
       "<style scoped>\n",
       "    .dataframe tbody tr th:only-of-type {\n",
       "        vertical-align: middle;\n",
       "    }\n",
       "\n",
       "    .dataframe tbody tr th {\n",
       "        vertical-align: top;\n",
       "    }\n",
       "\n",
       "    .dataframe thead th {\n",
       "        text-align: right;\n",
       "    }\n",
       "</style>\n",
       "<table border=\"1\" class=\"dataframe\">\n",
       "  <thead>\n",
       "    <tr style=\"text-align: right;\">\n",
       "      <th></th>\n",
       "      <th>ADN</th>\n",
       "      <th>ARNm</th>\n",
       "    </tr>\n",
       "  </thead>\n",
       "  <tbody>\n",
       "    <tr>\n",
       "      <th>0</th>\n",
       "      <td>ATGCGTACCTGA</td>\n",
       "      <td>UACGCAUGGACU</td>\n",
       "    </tr>\n",
       "    <tr>\n",
       "      <th>1</th>\n",
       "      <td>TACG</td>\n",
       "      <td>AUGC</td>\n",
       "    </tr>\n",
       "    <tr>\n",
       "      <th>2</th>\n",
       "      <td>GGGCCCATA</td>\n",
       "      <td>CCCGGGUAU</td>\n",
       "    </tr>\n",
       "  </tbody>\n",
       "</table>\n",
       "</div>"
      ],
      "text/plain": [
       "            ADN          ARNm\n",
       "0  ATGCGTACCTGA  UACGCAUGGACU\n",
       "1          TACG          AUGC\n",
       "2     GGGCCCATA     CCCGGGUAU"
      ]
     },
     "execution_count": 13,
     "metadata": {},
     "output_type": "execute_result"
    }
   ],
   "source": [
    "# De ADN a ARNm en Python\n",
    "\n",
    "# Función para transcribir una o varias secuencias de ADN (hebra molde) a ARNm\n",
    "def transcribir_adn_a_arn(adn_list):\n",
    "    if isinstance(adn_list, str):\n",
    "        adn_list = [adn_list]  # Convertir a lista si es una sola secuencia\n",
    "    \n",
    "    # Mapa de transcripción\n",
    "    mapa = str.maketrans({\"A\": \"U\", \"T\": \"A\", \"G\": \"C\", \"C\": \"G\"})\n",
    "    \n",
    "    # Transcribir todas las secuencias\n",
    "    arn_list = [seq.upper().translate(mapa) for seq in adn_list]\n",
    "    return arn_list\n",
    "\n",
    "# Ejemplo con varias secuencias\n",
    "secuencias_adn = [\"ATGCGTACCTGA\", \"TACG\", \"GGGCCCATA\"]\n",
    "secuencias_arn = transcribir_adn_a_arn(secuencias_adn)\n",
    "\n",
    "# Mostrar resultados en tabla\n",
    "import pandas as pd\n",
    "df = pd.DataFrame({\"ADN\": secuencias_adn, \"ARNm\": secuencias_arn})\n",
    "df"
   ]
  },
  {
   "cell_type": "markdown",
   "id": "d34dbeee",
   "metadata": {},
   "source": [
    "**Ejercicio:**\n",
    "\n",
    "1. Cambia la secuencia de ADN y observa cómo cambia la transcripción.\n",
    "2. ¿Qué pasaría si introduces caracteres que no son A, T, G o C?\n"
   ]
  },
  {
   "cell_type": "markdown",
   "id": "50ca84b9-9004-426c-8c52-60dc89f75e34",
   "metadata": {},
   "source": [
    "### Nota"
   ]
  },
  {
   "cell_type": "code",
   "execution_count": 6,
   "id": "bb4f0122-0b5c-40f1-848a-26340f02a351",
   "metadata": {},
   "outputs": [
    {
     "name": "stdout",
     "output_type": "stream",
     "text": [
      "Python: 3.12.3 (main, Aug 14 2025, 17:47:21) [GCC 13.3.0]\n",
      "JupyterLab: 4.4.7\n",
      "Sistema: Linux-6.14.0-29-generic-x86_64-with-glibc2.39\n"
     ]
    }
   ],
   "source": [
    "# Información de versión para reproducibilidad\n",
    "import sys\n",
    "import jupyterlab\n",
    "import platform\n",
    "\n",
    "print(\"Python:\", sys.version)\n",
    "print(\"JupyterLab:\", jupyterlab.__version__)\n",
    "print(\"Sistema:\", platform.platform())"
   ]
  },
  {
   "cell_type": "code",
   "execution_count": 7,
   "id": "08ac6dbe-aef7-4265-b270-58fd368765a1",
   "metadata": {},
   "outputs": [
    {
     "name": "stdout",
     "output_type": "stream",
     "text": [
      "Biopython: 1.85\n",
      "Pandas: 2.3.2\n",
      "Matplotlib: 3.10.6\n"
     ]
    }
   ],
   "source": [
    "import Bio\n",
    "import pandas as pd\n",
    "import matplotlib\n",
    "\n",
    "print(\"Biopython:\", Bio.__version__)\n",
    "print(\"Pandas:\", pd.__version__)\n",
    "print(\"Matplotlib:\", matplotlib.__version__)"
   ]
  }
 ],
 "metadata": {
  "kernelspec": {
   "display_name": "Python 3 (ipykernel)",
   "language": "python",
   "name": "python3"
  },
  "language_info": {
   "codemirror_mode": {
    "name": "ipython",
    "version": 3
   },
   "file_extension": ".py",
   "mimetype": "text/x-python",
   "name": "python",
   "nbconvert_exporter": "python",
   "pygments_lexer": "ipython3",
   "version": "3.12.3"
  }
 },
 "nbformat": 4,
 "nbformat_minor": 5
}
